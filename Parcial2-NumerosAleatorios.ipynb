{
 "cells": [
  {
   "cell_type": "markdown",
   "metadata": {},
   "source": [
    "#  SINGLE SERVER QUEUE - RAMDON NUMBERS"
   ]
  },
  {
   "cell_type": "markdown",
   "metadata": {},
   "source": [
    "Se desea simular el comportamiento de un establecimiento comercial como una cola con servidor\n",
    "único (Single-server Queue). \n",
    "El establecimiento ofrece servicio continuo entre las 8 am y las 4 pm (8\n",
    "horas) y la disciplina de la cola es FIFO. Adicionalmente, se sabe que los tiempos entre llegadas\n",
    "(minutos)siguen una distribución exponencial con λ=5/10 y los tiempos de servicio (minutos) siguen\n",
    "una distribución exponencial con λ=6/10.\n",
    "Realice una simulación con 1000 réplicas y en cada réplica calcule lo siguiente:\n",
    "- Número de trabajos.\n",
    "- Estadísticos de trabajo.\n",
    "- Estadísticos de tiempo.\n",
    "\n",
    "Una vez realizadas las réplicas, calcule los intervalos de confianza de 95% para:\n",
    "- Número de trabajos.\n",
    "- Estadísticos de trabajo.\n",
    "- Estadísticos de tiempo"
   ]
  },
  {
   "cell_type": "code",
   "execution_count": 1,
   "metadata": {},
   "outputs": [],
   "source": [
    "import random\n",
    "import numpy as np\n",
    "import math\n",
    "import pandas as pd \n",
    "import re\n",
    "import scipy.stats as st "
   ]
  },
  {
   "cell_type": "code",
   "execution_count": 2,
   "metadata": {},
   "outputs": [],
   "source": [
    "########### FUNCIONES ######### \n",
    "\n",
    "#Funcion Distribucion exponencial \n",
    "def exponencial(lamda):\n",
    "  return -math.log(1.0 - random.random()) / lamda\n",
    "\n",
    "#Funcion Buscador de numero menor en lista\n",
    "def sumar(lista, menor):\n",
    "\n",
    "    suma = 0.0\n",
    "    for i in range(1000):\n",
    "      if(menor >= menor):\n",
    "        menor = lista[i]\n",
    "\n",
    "      suma = suma + lista[i]\n",
    "      tupla = [suma,menor]\n",
    "\n",
    "    return tupla\n",
    "\n",
    "from numpy import mean\n",
    "#######Job-averaged statistics\n",
    "def averageInterarrival(a):\n",
    "    r = mean(a)\n",
    "    aR = 1/r\n",
    "    return r, aR\n",
    "\n",
    "def averageService(s):\n",
    "    s = mean(s)\n",
    "    sR = 1/s\n",
    "    return s, sR\n",
    "def averageDelay(delay):\n",
    "    d = mean(delay)\n",
    "    return d\n",
    "\n",
    "def averageWait(d, s):\n",
    "    w = mean(d) + mean(s)\n",
    "    return w\n",
    "\n",
    "#######Time-averaged statistics\n",
    "\n",
    "\n",
    "def little_jobsInServiceNode(d, s):\n",
    "    w = 0.0\n",
    "    for i, j in zip(d, s):\n",
    "        w+=(i+j)\n",
    "    return w\n",
    "\n",
    "\n",
    "def little_jobsInQueue(d):\n",
    "    sumD = 0.0\n",
    "    for i in d:\n",
    "        sumD+=i\n",
    "    return sumD\n",
    "\n",
    "\n",
    "def little_jobsInService(s):\n",
    "    sumS = 0.0\n",
    "    for i in s:\n",
    "        sumS+=i\n",
    "    return sumS\n",
    "\n",
    "def delayTime(a, s):\n",
    "    c = [0.0]*1000\n",
    "    i = 0\n",
    "    d = [0.0]*1000\n",
    "    while i < 999:\n",
    "        i+=1\n",
    "        if a[i] < c[i-1]:\n",
    "            d[i] = c[i-1] - a[i]\n",
    "        else:\n",
    "            d[i] = 0\n",
    "        c[i] = a[i] + d[i] + s[i]\n",
    "    return d\n",
    "\n"
   ]
  },
  {
   "cell_type": "markdown",
   "metadata": {},
   "source": [
    "## Generacion de numero de llegadas para lambda: 5/10 "
   ]
  },
  {
   "cell_type": "code",
   "execution_count": 3,
   "metadata": {},
   "outputs": [],
   "source": [
    "# Generacion de Numero de Llegadas\n",
    "\n",
    "\n",
    "#Genero 1000 replicas  (Numero de llegadas)\n",
    "lista = [] \n",
    "for i in range(1000):\n",
    "    numero = exponencial(5/10)\n",
    "    lista.append(numero)\n",
    "\n",
    "\n",
    "#### Condicion que se cumplan las 8 horas ######\n",
    "\n",
    "suma = 10000\n",
    "menor = 10000\n",
    "while suma >= 480:\n",
    "    suma = 0\n",
    "\n",
    "    for i in range(1000):\n",
    "\n",
    "      # Funcion sumar que nos suma y nos encuentra el menor\n",
    "        tupla = sumar(lista, menor)\n",
    "        suma = tupla[0]\n",
    "        menor = tupla[1]\n",
    "\n",
    "        if( suma >= 480 ):\n",
    "\n",
    "          ''' \n",
    "          Si el numero \n",
    "          que estamos comparando \n",
    "          es menor o igual al numero menor \n",
    "          y es mayor a lo que estamos restando \n",
    "          '''\n",
    "\n",
    "          if ( lista[i] >= menor and lista[i] > 0.5 ):\n",
    "            lista[i] = lista[i] - 0.5\n",
    "        else:\n",
    "          break\n",
    "\n",
    "\n",
    "numero = 480 - suma\n",
    "lista[0] = lista[0] + numero\n",
    "\n",
    "tupla = sumar(lista, menor)\n",
    "suma = tupla[0]\n",
    "\n",
    "#print(\"lista trabajo\", lista )\n",
    "#print( \"Las horas de trabajo: \",suma )\n",
    "\n",
    "\n"
   ]
  },
  {
   "cell_type": "markdown",
   "metadata": {},
   "source": [
    "## Generacion de tiempo entre servicios para lambda: 6/10"
   ]
  },
  {
   "cell_type": "code",
   "execution_count": 4,
   "metadata": {},
   "outputs": [],
   "source": [
    "#########''' Generar Tiempo entre Servicios''' ##################################\n",
    "\n",
    "\n",
    "#Genero 1000 replicas  (Numero de Servicios)\n",
    "lista2 = [] \n",
    "for i in range(1000):\n",
    "    numero = exponencial(6/10)\n",
    "    lista2.append(numero)\n",
    "\n"
   ]
  },
  {
   "cell_type": "code",
   "execution_count": 5,
   "metadata": {},
   "outputs": [],
   "source": [
    "#### Condicion que se cumplan las 8 horas ######\n",
    "\n",
    "suma2 = 10000\n",
    "menor2 = 10000\n",
    "while suma2 >= 480:\n",
    "    suma2 = 0\n",
    "\n",
    "    for i in range(1000):\n",
    "\n",
    "      # Funcion sumar que nos suma y nos encuentra el menor\n",
    "        tupla2 = sumar(lista2, menor2)\n",
    "        suma2 = tupla2[0]\n",
    "        menor2 = tupla2[1]\n",
    "\n",
    "        if( suma2 >= 480 ):\n",
    "\n",
    "          ''' \n",
    "          Si el numero \n",
    "          que estamos comparando \n",
    "          es menor o igual al numero menor \n",
    "          y es mayor a lo que estamos restando \n",
    "          '''\n",
    "\n",
    "          if ( lista2[i] >= menor2 and lista2[i] > 0.5 ):\n",
    "            lista2[i] = lista[i] - 0.5\n",
    "        else:\n",
    "          break\n",
    "\n",
    "\n",
    "numero2 = 480 - suma2\n",
    "lista2[0] = lista2[0] + numero2\n",
    "\n",
    "tupla2 = sumar(lista2, menor2)\n",
    "suma2 = tupla2[0]\n",
    "\n",
    "#print(\"lista servicio\", lista2 )\n",
    "#print( \"Las horas de Servicio: \",suma2)"
   ]
  },
  {
   "cell_type": "code",
   "execution_count": null,
   "metadata": {},
   "outputs": [],
   "source": []
  },
  {
   "cell_type": "markdown",
   "metadata": {},
   "source": [
    "## Single Server Queue"
   ]
  },
  {
   "cell_type": "code",
   "execution_count": 6,
   "metadata": {},
   "outputs": [
    {
     "name": "stdout",
     "output_type": "stream",
     "text": [
      "##########################################\n",
      "##########################################\n",
      "############ Statistics ##################\n",
      "##########################################\n",
      "##########################################\n",
      "\n",
      "Average interarrival time: 0.48000000000000054 | Arrival rate: 2.083333333333331\n",
      "\n",
      "Average service time: 0.4800000000000002 | Service rate: 2.0833333333333326\n",
      "\n",
      "Average delay:  153.5206402030027\n",
      "\n",
      "Average wait:  154.0006402030027\n",
      "Time used in service node:  154000.64020300267\n",
      "Time used in queue:  153520.64020300264\n",
      "Time used in service:  480.00000000000006\n"
     ]
    }
   ],
   "source": [
    "######## ''' SERVIDOR COLA UNICA''' #######\n",
    "d = delayTime(lista, lista2)\n",
    "averageInterarrival, arrivalRate = averageInterarrival(lista)\n",
    "averageService, serviceRate = averageService(lista2)\n",
    "averageDelay = averageDelay(d)\n",
    "averageWait = averageWait(d, lista2)\n",
    "jobsInServiceNode = little_jobsInServiceNode(d, lista2)\n",
    "jobsInQueue = little_jobsInQueue(d)\n",
    "jobsInService = little_jobsInService(lista2)\n",
    "print(\"##########################################\")\n",
    "print(\"##########################################\")\n",
    "print(\"############ Statistics ##################\")\n",
    "print(\"##########################################\")\n",
    "print(\"##########################################\")\n",
    "\n",
    "\n",
    "print(\"\\nAverage interarrival time: {} | Arrival rate: {}\".format(averageInterarrival, arrivalRate))\n",
    "print(\"\\nAverage service time: {} | Service rate: {}\".format(averageService, serviceRate))\n",
    "print(\"\\nAverage delay: \", averageDelay)\n",
    "print(\"\\nAverage wait: \", averageWait)\n",
    "\n",
    "\n",
    "print(\"Time used in service node: \", jobsInServiceNode)\n",
    "print(\"Time used in queue: \", jobsInQueue)\n",
    "print(\"Time used in service: \", jobsInService)\n"
   ]
  },
  {
   "cell_type": "markdown",
   "metadata": {},
   "source": [
    "# Intervalos de confianza\n",
    "\n",
    "Calcular el intervalo de confianza del 95% de la media de la matriz"
   ]
  },
  {
   "cell_type": "code",
   "execution_count": 7,
   "metadata": {},
   "outputs": [],
   "source": [
    "import scipy.stats \n",
    "def intervalos_confianza(data, confidence=0.95):\n",
    "    a = 1.0 * np.array(data)\n",
    "    n = len(a)\n",
    "    m, se = np.mean(a), scipy.stats.sem(a)\n",
    "    h = se * scipy.stats.t.ppf((1 + confidence) / 2., n-1)\n",
    "    return m, m-h, m+h\n",
    "\n"
   ]
  },
  {
   "cell_type": "markdown",
   "metadata": {},
   "source": [
    "# Intervalos de confianza para Trabajos"
   ]
  },
  {
   "cell_type": "code",
   "execution_count": 8,
   "metadata": {},
   "outputs": [
    {
     "data": {
      "text/plain": [
       "[<matplotlib.lines.Line2D at 0x1a1e106400>]"
      ]
     },
     "execution_count": 8,
     "metadata": {},
     "output_type": "execute_result"
    }
   ],
   "source": [
    "import matplotlib.pyplot as plt\n",
    "\n",
    "plt.plot(lista)\n",
    "\n"
   ]
  },
  {
   "cell_type": "code",
   "execution_count": 9,
   "metadata": {},
   "outputs": [
    {
     "name": "stdout",
     "output_type": "stream",
     "text": [
      "\n",
      " Intervalos confianza de 95% para trabajos (0.48000000000000054, 0.4214631743982653, 0.5385368256017358)\n"
     ]
    }
   ],
   "source": [
    "print(\"\\n Intervalos confianza de 95% para trabajos\",intervalos_confianza(lista))\n"
   ]
  },
  {
   "cell_type": "markdown",
   "metadata": {},
   "source": [
    "# Intervalos de Confianza Servicios"
   ]
  },
  {
   "cell_type": "code",
   "execution_count": 10,
   "metadata": {},
   "outputs": [
    {
     "data": {
      "text/plain": [
       "[<matplotlib.lines.Line2D at 0x1a1e260a90>]"
      ]
     },
     "execution_count": 10,
     "metadata": {},
     "output_type": "execute_result"
    },
    {
     "data": {
      "image/png": "[encoded data removed]",
      "text/plain": [
       "<Figure size 432x288 with 1 Axes>"
      ]
     },
     "metadata": {
      "needs_background": "light"
     },
     "output_type": "display_data"
    }
   ],
   "source": [
    "plt.plot(lista2)"
   ]
  },
  {
   "cell_type": "code",
   "execution_count": 11,
   "metadata": {},
   "outputs": [
    {
     "name": "stdout",
     "output_type": "stream",
     "text": [
      "\n",
      " Intervalos confianza de 95% para servicios (0.4800000000000002, 0.4171262842590685, 0.5428737157409319)\n"
     ]
    }
   ],
   "source": [
    "print(\"\\n Intervalos confianza de 95% para servicios\",intervalos_confianza(lista2))\n"
   ]
  },
  {
   "cell_type": "code",
   "execution_count": null,
   "metadata": {},
   "outputs": [],
   "source": []
  },
  {
   "cell_type": "code",
   "execution_count": null,
   "metadata": {},
   "outputs": [],
   "source": []
  }
 ],
 "metadata": {
  "kernelspec": {
   "display_name": "Python 3",
   "language": "python",
   "name": "python3"
  },
  "language_info": {
   "codemirror_mode": {
    "name": "ipython",
    "version": 3
   },
   "file_extension": ".py",
   "mimetype": "text/x-python",
   "name": "python",
   "nbconvert_exporter": "python",
   "pygments_lexer": "ipython3",
   "version": "3.7.3"
  }
 },
 "nbformat": 4,
 "nbformat_minor": 2
}
